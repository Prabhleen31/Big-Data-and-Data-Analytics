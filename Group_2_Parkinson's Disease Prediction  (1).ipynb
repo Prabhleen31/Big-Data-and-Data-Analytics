{
 "cells": [
  {
   "cell_type": "markdown",
   "id": "e8d80ffb",
   "metadata": {},
   "source": [
    "# BDDA-1 Project_1\n",
    "\n",
    "**By group-2**\n",
    "\n",
    "-Prabhleen Kaur Pahwa (035039)\n",
    "\n",
    "-Janessa Karra (035028)\n",
    "\n",
    "-Tanmay Agrarwal (035058)"
   ]
  },
  {
   "cell_type": "markdown",
   "id": "22ca783e",
   "metadata": {},
   "source": [
    "#### About the Dataset"
   ]
  },
  {
   "cell_type": "markdown",
   "id": "0cd3d1bc",
   "metadata": {},
   "source": [
    "The Dataset is from the organisation, Accelerating Medicines Partnership® Parkinson's Disease (AMP®PD) hosting the competition on Kaggle, is a collaborative initiative involving government entities, industry partners, and nonprofit organizations. \n",
    "\n",
    "\n",
    "**Objective**: To identify and validate biomarkers that can diagnose the disease, predict its progression, or provide insights into disease development.\n",
    "\n",
    "**About Parkinson Disease**\n",
    "\n",
    "Parkinson's disease (PD) is a debilitating neurological disorder that affects various aspects of a person's life, including movement, cognitive function, sleep, and more. Unfortunately, there is currently no cure for PD, and its symptoms tend to worsen as time goes on. Projections suggest that by the year 2037, around 1.6 million individuals in the United States will be living with Parkinson's disease, leading to a significant economic burden of approximately $80 billion. Research indicates that irregularities in proteins and peptides are significant factors contributing to the onset and progression of this condition. By leveraging the power of data science, gaining a deeper understanding of these irregularities could offer crucial insights for the development of novel pharmacotherapies aimed at slowing down the disease's advancement or even finding a cure.\n",
    "\n",
    "Efforts thus far have yielded a vast amount of complex clinical and neurobiological data from more than 10,000 subjects, which is being made widely available to the research community. Although important discoveries have been made using this data, definitive biomarkers or treatments for Parkinson's disease remain elusive."
   ]
  },
  {
   "cell_type": "markdown",
   "id": "4d65cc68",
   "metadata": {},
   "source": [
    "#### DEPENDENCIES"
   ]
  },
  {
   "cell_type": "code",
   "execution_count": 2,
   "id": "e7c917f3",
   "metadata": {},
   "outputs": [
    {
     "name": "stdout",
     "output_type": "stream",
     "text": [
      "Requirement already satisfied: scikit-optimize in c:\\users\\prabhleen kaur pahwa\\anaconda3\\lib\\site-packages (0.9.0)\n",
      "Requirement already satisfied: numpy>=1.13.3 in c:\\users\\prabhleen kaur pahwa\\anaconda3\\lib\\site-packages (from scikit-optimize) (1.23.5)\n",
      "Requirement already satisfied: scikit-learn>=0.20.0 in c:\\users\\prabhleen kaur pahwa\\anaconda3\\lib\\site-packages (from scikit-optimize) (1.0.2)\n",
      "Requirement already satisfied: joblib>=0.11 in c:\\users\\prabhleen kaur pahwa\\anaconda3\\lib\\site-packages (from scikit-optimize) (1.1.1)\n",
      "Requirement already satisfied: pyaml>=16.9 in c:\\users\\prabhleen kaur pahwa\\anaconda3\\lib\\site-packages (from scikit-optimize) (23.7.0)\n",
      "Requirement already satisfied: scipy>=0.19.1 in c:\\users\\prabhleen kaur pahwa\\anaconda3\\lib\\site-packages (from scikit-optimize) (1.10.0)\n",
      "Requirement already satisfied: PyYAML in c:\\users\\prabhleen kaur pahwa\\anaconda3\\lib\\site-packages (from pyaml>=16.9->scikit-optimize) (6.0)\n",
      "Requirement already satisfied: threadpoolctl>=2.0.0 in c:\\users\\prabhleen kaur pahwa\\anaconda3\\lib\\site-packages (from scikit-learn>=0.20.0->scikit-optimize) (2.2.0)\n"
     ]
    },
    {
     "name": "stderr",
     "output_type": "stream",
     "text": [
      "ERROR: Invalid requirement: \"'scikit-optimize[plots]'\"\n"
     ]
    }
   ],
   "source": [
    "import matplotlib.pyplot as plt\n",
    "import seaborn as sns\n",
    "import pandas as pd\n",
    "import numpy as np\n",
    "import math\n",
    "# 0.0\n",
    "# For skopt routines\n",
    "! pip install scikit-optimize\n",
    "\n",
    "# 0.1 For plotting skopt results\n",
    "! pip install 'scikit-optimize[plots]'\n",
    "from sklearn.model_selection import train_test_split\n",
    "from sklearn.preprocessing import StandardScaler, LabelEncoder, MinMaxScaler, OrdinalEncoder\n",
    "from sklearn.ensemble import RandomForestRegressor\n",
    "from sklearn.metrics import mean_squared_error\n",
    "from sklearn.impute import SimpleImputer\n",
    "from sklearn.model_selection import train_test_split\n",
    "from sklearn.ensemble import  RandomForestClassifier\n",
    "from sklearn.metrics import accuracy_score\n",
    "from sklearn.impute import SimpleImputer\n",
    "from sklearn.pipeline import make_pipeline\n",
    "from sklearn.metrics import mean_absolute_error"
   ]
  },
  {
   "cell_type": "code",
   "execution_count": 3,
   "id": "fa1f7491",
   "metadata": {},
   "outputs": [],
   "source": [
    "# 1.0 Clear ipython memory\n",
    "#%reset -f\n",
    "\n",
    "# 1.1 Data manipulation and plotting modules\n",
    "import numpy as np\n",
    "import pandas as pd\n",
    "\n",
    "\n",
    "# 1.2 Data pre-processing\n",
    "#     z = (x-mean)/stdev\n",
    "from sklearn.preprocessing import StandardScaler as ss\n",
    "\n",
    "# 1.3 Dimensionality reduction and noise removal\n",
    "from sklearn.decomposition import PCA\n",
    "\n",
    "# 1.4 Data splitting and model parameter search\n",
    "from sklearn.model_selection import train_test_split\n",
    "from sklearn.model_selection import StratifiedKFold\n",
    "\n",
    "# 1.5 Model pipelining\n",
    "from sklearn.pipeline import Pipeline\n",
    "from sklearn.pipeline import make_pipeline\n",
    "\n",
    "# 1.6 Hyperparameter optimization\n",
    "from sklearn.model_selection import GridSearchCV\n",
    "from sklearn.model_selection import RandomizedSearchCV\n",
    "\n",
    "# 1.7.1\n",
    "#     pip install scikit-optimize\n",
    "#     pip install 'scikit-optimize[plots]'\n",
    "#     Refer: https://github.com/scikit-optimize/scikit-optimize\n",
    "#     conda install -c conda-forge scikit-optimize\n",
    "from skopt import BayesSearchCV\n",
    "from skopt.space import Real, Categorical, Integer\n",
    "\n",
    "# 1.8 Modeling modules\n",
    "#     Call sklearn wrapper of xgboost\n",
    "# \"\"\"Scikit-Learn Wrapper interface for XGBoost.\"\"\"\n",
    "#  \"\"\"Implementation of the Scikit-Learn API for XGBoost.\n",
    "# https://xgboost.readthedocs.io/en/latest/python/python_api.html#module-xgboost.sklearn\n",
    "# Stackoverflow:\n",
    "# https://stackoverflow.com/a/34696477\n",
    "# https://stackoverflow.com/a/46947191\n",
    "# Install as: conda install -c anaconda py-xgboost\n",
    "from xgboost.sklearn import XGBClassifier"
   ]
  },
  {
   "cell_type": "code",
   "execution_count": 4,
   "id": "3d441b06",
   "metadata": {},
   "outputs": [],
   "source": [
    "# 1.9 Model evaluation metrics\n",
    "from sklearn.metrics import accuracy_score, f1_score\n",
    "from sklearn.metrics import plot_roc_curve\n",
    "from sklearn.metrics import confusion_matrix\n",
    "\n",
    "# 1.10\n",
    "import matplotlib.pyplot as plt\n",
    "import seaborn as sns\n",
    "from xgboost import plot_importance\n",
    "\n",
    "# 1.11 Permutation feature importance\n",
    "from sklearn.inspection import permutation_importance"
   ]
  },
  {
   "cell_type": "code",
   "execution_count": 5,
   "id": "fed16b36",
   "metadata": {},
   "outputs": [],
   "source": [
    "# 1.12 Misc\n",
    "import time\n",
    "import os\n",
    "import gc\n",
    "import random\n",
    "\n",
    "# 1.13 Used in Randomized parameter search\n",
    "from scipy.stats import uniform"
   ]
  },
  {
   "cell_type": "code",
   "execution_count": 6,
   "id": "3cd0d543",
   "metadata": {},
   "outputs": [],
   "source": [
    "# 1.14\n",
    "from IPython.core.interactiveshell import InteractiveShell\n",
    "InteractiveShell.ast_node_interactivity = \"all\""
   ]
  },
  {
   "cell_type": "code",
   "execution_count": 7,
   "id": "c6a21115",
   "metadata": {},
   "outputs": [],
   "source": [
    "# 1.15 Set option to dislay many rows\n",
    "pd.set_option('display.max_columns', 100)"
   ]
  },
  {
   "cell_type": "markdown",
   "id": "abf3aec1",
   "metadata": {},
   "source": [
    "#### LOADING THE DATASETS"
   ]
  },
  {
   "cell_type": "code",
   "execution_count": 8,
   "id": "b7aa2df0",
   "metadata": {},
   "outputs": [],
   "source": [
    "# Load a dataset into a Pandas DataFrame\n",
    "train_proteins = pd.read_csv(r\"C:\\Users\\Prabhleen Kaur Pahwa\\Documents\\1_FORE\\Term 3\\MLP\\Parkinson\\train_proteins.csv\")\n",
    "train_peptides = pd.read_csv(r\"C:\\Users\\Prabhleen Kaur Pahwa\\Documents\\1_FORE\\Term 3\\MLP\\Parkinson\\train_peptides.csv\")\n",
    "train_clinical = pd.read_csv(r\"C:\\Users\\Prabhleen Kaur Pahwa\\Documents\\1_FORE\\Term 3\\MLP\\Parkinson\\train_clinical_data.csv\")"
   ]
  },
  {
   "cell_type": "markdown",
   "id": "08a03752",
   "metadata": {},
   "source": [
    "#### READING THE DATASETS"
   ]
  },
  {
   "cell_type": "code",
   "execution_count": 9,
   "id": "71d3c644",
   "metadata": {},
   "outputs": [
    {
     "name": "stdout",
     "output_type": "stream",
     "text": [
      "clinical dataset shape:   (2615, 8)\n"
     ]
    },
    {
     "data": {
      "text/html": [
       "<div>\n",
       "<style scoped>\n",
       "    .dataframe tbody tr th:only-of-type {\n",
       "        vertical-align: middle;\n",
       "    }\n",
       "\n",
       "    .dataframe tbody tr th {\n",
       "        vertical-align: top;\n",
       "    }\n",
       "\n",
       "    .dataframe thead th {\n",
       "        text-align: right;\n",
       "    }\n",
       "</style>\n",
       "<table border=\"1\" class=\"dataframe\">\n",
       "  <thead>\n",
       "    <tr style=\"text-align: right;\">\n",
       "      <th></th>\n",
       "      <th>visit_id</th>\n",
       "      <th>patient_id</th>\n",
       "      <th>visit_month</th>\n",
       "      <th>updrs_1</th>\n",
       "      <th>updrs_2</th>\n",
       "      <th>updrs_3</th>\n",
       "      <th>updrs_4</th>\n",
       "      <th>upd23b_clinical_state_on_medication</th>\n",
       "    </tr>\n",
       "  </thead>\n",
       "  <tbody>\n",
       "    <tr>\n",
       "      <th>0</th>\n",
       "      <td>55_0</td>\n",
       "      <td>55</td>\n",
       "      <td>0</td>\n",
       "      <td>10.0</td>\n",
       "      <td>6.0</td>\n",
       "      <td>15.0</td>\n",
       "      <td>NaN</td>\n",
       "      <td>NaN</td>\n",
       "    </tr>\n",
       "    <tr>\n",
       "      <th>1</th>\n",
       "      <td>55_3</td>\n",
       "      <td>55</td>\n",
       "      <td>3</td>\n",
       "      <td>10.0</td>\n",
       "      <td>7.0</td>\n",
       "      <td>25.0</td>\n",
       "      <td>NaN</td>\n",
       "      <td>NaN</td>\n",
       "    </tr>\n",
       "    <tr>\n",
       "      <th>2</th>\n",
       "      <td>55_6</td>\n",
       "      <td>55</td>\n",
       "      <td>6</td>\n",
       "      <td>8.0</td>\n",
       "      <td>10.0</td>\n",
       "      <td>34.0</td>\n",
       "      <td>NaN</td>\n",
       "      <td>NaN</td>\n",
       "    </tr>\n",
       "    <tr>\n",
       "      <th>3</th>\n",
       "      <td>55_9</td>\n",
       "      <td>55</td>\n",
       "      <td>9</td>\n",
       "      <td>8.0</td>\n",
       "      <td>9.0</td>\n",
       "      <td>30.0</td>\n",
       "      <td>0.0</td>\n",
       "      <td>On</td>\n",
       "    </tr>\n",
       "    <tr>\n",
       "      <th>4</th>\n",
       "      <td>55_12</td>\n",
       "      <td>55</td>\n",
       "      <td>12</td>\n",
       "      <td>10.0</td>\n",
       "      <td>10.0</td>\n",
       "      <td>41.0</td>\n",
       "      <td>0.0</td>\n",
       "      <td>On</td>\n",
       "    </tr>\n",
       "  </tbody>\n",
       "</table>\n",
       "</div>"
      ],
      "text/plain": [
       "  visit_id  patient_id  visit_month  updrs_1  updrs_2  updrs_3  updrs_4  \\\n",
       "0     55_0          55            0     10.0      6.0     15.0      NaN   \n",
       "1     55_3          55            3     10.0      7.0     25.0      NaN   \n",
       "2     55_6          55            6      8.0     10.0     34.0      NaN   \n",
       "3     55_9          55            9      8.0      9.0     30.0      0.0   \n",
       "4    55_12          55           12     10.0     10.0     41.0      0.0   \n",
       "\n",
       "  upd23b_clinical_state_on_medication  \n",
       "0                                 NaN  \n",
       "1                                 NaN  \n",
       "2                                 NaN  \n",
       "3                                  On  \n",
       "4                                  On  "
      ]
     },
     "execution_count": 9,
     "metadata": {},
     "output_type": "execute_result"
    },
    {
     "data": {
      "text/html": [
       "<div>\n",
       "<style scoped>\n",
       "    .dataframe tbody tr th:only-of-type {\n",
       "        vertical-align: middle;\n",
       "    }\n",
       "\n",
       "    .dataframe tbody tr th {\n",
       "        vertical-align: top;\n",
       "    }\n",
       "\n",
       "    .dataframe thead th {\n",
       "        text-align: right;\n",
       "    }\n",
       "</style>\n",
       "<table border=\"1\" class=\"dataframe\">\n",
       "  <thead>\n",
       "    <tr style=\"text-align: right;\">\n",
       "      <th></th>\n",
       "      <th>visit_id</th>\n",
       "      <th>visit_month</th>\n",
       "      <th>patient_id</th>\n",
       "      <th>UniProt</th>\n",
       "      <th>NPX</th>\n",
       "    </tr>\n",
       "  </thead>\n",
       "  <tbody>\n",
       "    <tr>\n",
       "      <th>0</th>\n",
       "      <td>55_0</td>\n",
       "      <td>0</td>\n",
       "      <td>55</td>\n",
       "      <td>O00391</td>\n",
       "      <td>11254.3</td>\n",
       "    </tr>\n",
       "    <tr>\n",
       "      <th>1</th>\n",
       "      <td>55_0</td>\n",
       "      <td>0</td>\n",
       "      <td>55</td>\n",
       "      <td>O00533</td>\n",
       "      <td>732430.0</td>\n",
       "    </tr>\n",
       "    <tr>\n",
       "      <th>2</th>\n",
       "      <td>55_0</td>\n",
       "      <td>0</td>\n",
       "      <td>55</td>\n",
       "      <td>O00584</td>\n",
       "      <td>39585.8</td>\n",
       "    </tr>\n",
       "    <tr>\n",
       "      <th>3</th>\n",
       "      <td>55_0</td>\n",
       "      <td>0</td>\n",
       "      <td>55</td>\n",
       "      <td>O14498</td>\n",
       "      <td>41526.9</td>\n",
       "    </tr>\n",
       "    <tr>\n",
       "      <th>4</th>\n",
       "      <td>55_0</td>\n",
       "      <td>0</td>\n",
       "      <td>55</td>\n",
       "      <td>O14773</td>\n",
       "      <td>31238.0</td>\n",
       "    </tr>\n",
       "  </tbody>\n",
       "</table>\n",
       "</div>"
      ],
      "text/plain": [
       "  visit_id  visit_month  patient_id UniProt       NPX\n",
       "0     55_0            0          55  O00391   11254.3\n",
       "1     55_0            0          55  O00533  732430.0\n",
       "2     55_0            0          55  O00584   39585.8\n",
       "3     55_0            0          55  O14498   41526.9\n",
       "4     55_0            0          55  O14773   31238.0"
      ]
     },
     "execution_count": 9,
     "metadata": {},
     "output_type": "execute_result"
    },
    {
     "data": {
      "text/html": [
       "<div>\n",
       "<style scoped>\n",
       "    .dataframe tbody tr th:only-of-type {\n",
       "        vertical-align: middle;\n",
       "    }\n",
       "\n",
       "    .dataframe tbody tr th {\n",
       "        vertical-align: top;\n",
       "    }\n",
       "\n",
       "    .dataframe thead th {\n",
       "        text-align: right;\n",
       "    }\n",
       "</style>\n",
       "<table border=\"1\" class=\"dataframe\">\n",
       "  <thead>\n",
       "    <tr style=\"text-align: right;\">\n",
       "      <th></th>\n",
       "      <th>visit_id</th>\n",
       "      <th>visit_month</th>\n",
       "      <th>patient_id</th>\n",
       "      <th>UniProt</th>\n",
       "      <th>Peptide</th>\n",
       "      <th>PeptideAbundance</th>\n",
       "    </tr>\n",
       "  </thead>\n",
       "  <tbody>\n",
       "    <tr>\n",
       "      <th>0</th>\n",
       "      <td>55_0</td>\n",
       "      <td>0</td>\n",
       "      <td>55</td>\n",
       "      <td>O00391</td>\n",
       "      <td>NEQEQPLGQWHLS</td>\n",
       "      <td>11254.3</td>\n",
       "    </tr>\n",
       "    <tr>\n",
       "      <th>1</th>\n",
       "      <td>55_0</td>\n",
       "      <td>0</td>\n",
       "      <td>55</td>\n",
       "      <td>O00533</td>\n",
       "      <td>GNPEPTFSWTK</td>\n",
       "      <td>102060.0</td>\n",
       "    </tr>\n",
       "    <tr>\n",
       "      <th>2</th>\n",
       "      <td>55_0</td>\n",
       "      <td>0</td>\n",
       "      <td>55</td>\n",
       "      <td>O00533</td>\n",
       "      <td>IEIPSSVQQVPTIIK</td>\n",
       "      <td>174185.0</td>\n",
       "    </tr>\n",
       "    <tr>\n",
       "      <th>3</th>\n",
       "      <td>55_0</td>\n",
       "      <td>0</td>\n",
       "      <td>55</td>\n",
       "      <td>O00533</td>\n",
       "      <td>KPQSAVYSTGSNGILLC(UniMod_4)EAEGEPQPTIK</td>\n",
       "      <td>27278.9</td>\n",
       "    </tr>\n",
       "    <tr>\n",
       "      <th>4</th>\n",
       "      <td>55_0</td>\n",
       "      <td>0</td>\n",
       "      <td>55</td>\n",
       "      <td>O00533</td>\n",
       "      <td>SMEQNGPGLEYR</td>\n",
       "      <td>30838.7</td>\n",
       "    </tr>\n",
       "  </tbody>\n",
       "</table>\n",
       "</div>"
      ],
      "text/plain": [
       "  visit_id  visit_month  patient_id UniProt  \\\n",
       "0     55_0            0          55  O00391   \n",
       "1     55_0            0          55  O00533   \n",
       "2     55_0            0          55  O00533   \n",
       "3     55_0            0          55  O00533   \n",
       "4     55_0            0          55  O00533   \n",
       "\n",
       "                                  Peptide  PeptideAbundance  \n",
       "0                           NEQEQPLGQWHLS           11254.3  \n",
       "1                             GNPEPTFSWTK          102060.0  \n",
       "2                         IEIPSSVQQVPTIIK          174185.0  \n",
       "3  KPQSAVYSTGSNGILLC(UniMod_4)EAEGEPQPTIK           27278.9  \n",
       "4                            SMEQNGPGLEYR           30838.7  "
      ]
     },
     "execution_count": 9,
     "metadata": {},
     "output_type": "execute_result"
    }
   ],
   "source": [
    "print('clinical dataset shape:  ', train_clinical.shape)\n",
    "train_clinical.head()\n",
    "train_proteins.head()\n",
    "train_peptides.head()"
   ]
  },
  {
   "cell_type": "code",
   "execution_count": 10,
   "id": "2a6870eb",
   "metadata": {},
   "outputs": [
    {
     "data": {
      "text/plain": [
       "[<matplotlib.lines.Line2D at 0x1f7076e3ca0>]"
      ]
     },
     "execution_count": 10,
     "metadata": {},
     "output_type": "execute_result"
    },
    {
     "data": {
      "text/plain": [
       "[<matplotlib.lines.Line2D at 0x1f7076fd040>]"
      ]
     },
     "execution_count": 10,
     "metadata": {},
     "output_type": "execute_result"
    },
    {
     "data": {
      "text/plain": [
       "[<matplotlib.lines.Line2D at 0x1f7076fd250>]"
      ]
     },
     "execution_count": 10,
     "metadata": {},
     "output_type": "execute_result"
    },
    {
     "data": {
      "text/plain": [
       "[<matplotlib.lines.Line2D at 0x1f7076fd580>]"
      ]
     },
     "execution_count": 10,
     "metadata": {},
     "output_type": "execute_result"
    },
    {
     "data": {
      "text/plain": [
       "<matplotlib.legend.Legend at 0x1f70072ddc0>"
      ]
     },
     "execution_count": 10,
     "metadata": {},
     "output_type": "execute_result"
    },
    {
     "data": {
      "image/png": "[encoded data removed]",
      "text/plain": [
       "<Figure size 640x480 with 1 Axes>"
      ]
     },
     "metadata": {},
     "output_type": "display_data"
    }
   ],
   "source": [
    "# Fetch data for patient with id 1517\n",
    "plot_df = train_clinical[train_clinical[\"patient_id\"]==1517]\n",
    "fig, ax = plt.subplots(1, 1)\n",
    "\n",
    "ax.plot(plot_df['visit_month'], plot_df['updrs_1'], marker='o', color=\"blue\", label=\"updrs_1\", linestyle=\"-\")\n",
    "ax.plot(plot_df['visit_month'], plot_df['updrs_2'], marker='o', color=\"red\", label=\"updrs_2\", linestyle=\"-\")\n",
    "ax.plot(plot_df['visit_month'], plot_df['updrs_3'], marker='o', color=\"green\", label=\"updrs_3\", linestyle=\"-\")\n",
    "ax.plot(plot_df['visit_month'], plot_df['updrs_4'], marker='o', color=\"orange\", label=\"updrs_4\", linestyle=\"-\")\n",
    "\n",
    "ax.legend()\n",
    "plt.show()"
   ]
  },
  {
   "cell_type": "code",
   "execution_count": 13,
   "id": "c95d5fc9",
   "metadata": {},
   "outputs": [
    {
     "data": {
      "text/plain": [
       "Text(0.5, 0.98, 'UPDRS value distributions')"
      ]
     },
     "execution_count": 13,
     "metadata": {},
     "output_type": "execute_result"
    },
    {
     "data": {
      "text/plain": [
       "Text(0.5, 1.0, 'UPDRS_1')"
      ]
     },
     "execution_count": 13,
     "metadata": {},
     "output_type": "execute_result"
    },
    {
     "data": {
      "text/plain": [
       "Text(0.5, 1.0, 'UPDRS_2')"
      ]
     },
     "execution_count": 13,
     "metadata": {},
     "output_type": "execute_result"
    },
    {
     "data": {
      "text/plain": [
       "Text(0.5, 1.0, 'UPDRS_3')"
      ]
     },
     "execution_count": 13,
     "metadata": {},
     "output_type": "execute_result"
    },
    {
     "data": {
      "text/plain": [
       "Text(0.5, 1.0, 'UPDRS_4')"
      ]
     },
     "execution_count": 13,
     "metadata": {},
     "output_type": "execute_result"
    },
    {
     "data": {
      "text/plain": [
       "Text(0.5, 0, 'Score')"
      ]
     },
     "execution_count": 13,
     "metadata": {},
     "output_type": "execute_result"
    },
    {
     "data": {
      "text/plain": [
       "Text(0, 0.5, 'Count')"
      ]
     },
     "execution_count": 13,
     "metadata": {},
     "output_type": "execute_result"
    },
    {
     "data": {
      "text/plain": [
       "Text(0.5, 1.0, 'UPDRS_1')"
      ]
     },
     "execution_count": 13,
     "metadata": {},
     "output_type": "execute_result"
    },
    {
     "data": {
      "text/plain": [
       "Text(0.5, 0, 'Score')"
      ]
     },
     "execution_count": 13,
     "metadata": {},
     "output_type": "execute_result"
    },
    {
     "data": {
      "text/plain": [
       "Text(0, 0.5, 'Count')"
      ]
     },
     "execution_count": 13,
     "metadata": {},
     "output_type": "execute_result"
    },
    {
     "data": {
      "text/plain": [
       "Text(0.5, 1.0, 'UPDRS_2')"
      ]
     },
     "execution_count": 13,
     "metadata": {},
     "output_type": "execute_result"
    },
    {
     "data": {
      "text/plain": [
       "Text(0.5, 0, 'Score')"
      ]
     },
     "execution_count": 13,
     "metadata": {},
     "output_type": "execute_result"
    },
    {
     "data": {
      "text/plain": [
       "Text(0, 0.5, 'Count')"
      ]
     },
     "execution_count": 13,
     "metadata": {},
     "output_type": "execute_result"
    },
    {
     "data": {
      "text/plain": [
       "Text(0.5, 1.0, 'UPDRS_3')"
      ]
     },
     "execution_count": 13,
     "metadata": {},
     "output_type": "execute_result"
    },
    {
     "data": {
      "text/plain": [
       "[<matplotlib.axis.XTick at 0x1f70818ae80>,\n",
       " <matplotlib.axis.XTick at 0x1f70818ae50>,\n",
       " <matplotlib.axis.XTick at 0x1f708712dc0>,\n",
       " <matplotlib.axis.XTick at 0x1f708823d00>,\n",
       " <matplotlib.axis.XTick at 0x1f70882f7f0>,\n",
       " <matplotlib.axis.XTick at 0x1f708823f40>,\n",
       " <matplotlib.axis.XTick at 0x1f7088366d0>,\n",
       " <matplotlib.axis.XTick at 0x1f708836e20>,\n",
       " <matplotlib.axis.XTick at 0x1f70883cc70>,\n",
       " <matplotlib.axis.XTick at 0x1f708840760>]"
      ]
     },
     "execution_count": 13,
     "metadata": {},
     "output_type": "execute_result"
    },
    {
     "data": {
      "text/plain": [
       "Text(0.5, 0, 'Score')"
      ]
     },
     "execution_count": 13,
     "metadata": {},
     "output_type": "execute_result"
    },
    {
     "data": {
      "text/plain": [
       "Text(0, 0.5, 'Count')"
      ]
     },
     "execution_count": 13,
     "metadata": {},
     "output_type": "execute_result"
    },
    {
     "data": {
      "text/plain": [
       "Text(0.5, 1.0, 'UPDRS_4')"
      ]
     },
     "execution_count": 13,
     "metadata": {},
     "output_type": "execute_result"
    },
    {
     "data": {
      "image/png": "[encoded data removed]",
      "text/plain": [
       "<Figure size 1100x700 with 8 Axes>"
      ]
     },
     "metadata": {},
     "output_type": "display_data"
    }
   ],
   "source": [
    "import seaborn as sns\n",
    "import matplotlib.pyplot as plt\n",
    "\n",
    "colors = [\"green\", \"yellow\", \"orange\"]\n",
    "sns.set_palette(sns.color_palette(colors))\n",
    "\n",
    "f, axes = plt.subplots(4, 2, layout=\"constrained\",\n",
    "                        gridspec_kw={\"height_ratios\": (.15, .85, .15, .85)}, figsize=(11, 7))\n",
    "\n",
    "f.suptitle('UPDRS value distributions', fontsize=13)\n",
    "\n",
    "splot = sns.boxplot(ax=axes[0][0], x=train_clinical['updrs_1'])\n",
    "splot.axes.get_xaxis().set_visible(False)\n",
    "splot.set_title('UPDRS_1')\n",
    "\n",
    "splot = sns.boxplot(ax=axes[0][1], x=train_clinical['updrs_2'])\n",
    "splot.axes.get_xaxis().set_visible(False)\n",
    "splot.set_title('UPDRS_2')\n",
    "splot = sns.boxplot(ax=axes[2][0], x=train_clinical['updrs_3'])\n",
    "splot.axes.get_xaxis().set_visible(False)\n",
    "splot.set_title('UPDRS_3')\n",
    "\n",
    "splot = sns.boxplot(ax=axes[2][1], x=train_clinical['updrs_4'])\n",
    "splot.axes.get_xaxis().set_visible(False)\n",
    "splot.set_title('UPDRS_4')\n",
    "\n",
    "splot = sns.histplot(ax=axes[1][0], x=train_clinical['updrs_1'], kde=True, alpha=0.5, ec='black')\n",
    "splot.set_xlabel('Score')\n",
    "splot.set_ylabel('Count')\n",
    "splot.set_title('UPDRS_1')\n",
    "\n",
    "splot = sns.histplot(ax=axes[1][1], x=train_clinical['updrs_2'], kde=True, alpha=0.5, ec='black')\n",
    "splot.set_xlabel('Score')\n",
    "splot.set_ylabel('Count')\n",
    "splot.set_title('UPDRS_2')\n",
    "\n",
    "splot = sns.histplot(ax=axes[3][0], x=train_clinical['updrs_3'], kde=True, alpha=0.5, ec='black')\n",
    "splot.set_xlabel('Score')\n",
    "splot.set_ylabel('Count')\n",
    "splot.set_title('UPDRS_3')\n",
    "\n",
    "splot = sns.histplot(ax=axes[3][1], x=train_clinical['updrs_4'], kde=True, bins=range(0, 20), alpha=0.5, ec='black')\n",
    "splot.set_xticks(range(0, 20, 2))\n",
    "splot.set_xlabel('Score')\n",
    "splot.set_ylabel('Count')\n",
    "splot.set_title('UPDRS_4')\n",
    "\n",
    "\n",
    "plt.show()"
   ]
  },
  {
   "cell_type": "markdown",
   "id": "d9c594db",
   "metadata": {},
   "source": [
    "#### UNDERSTANDING THE  VARIABLES"
   ]
  },
  {
   "cell_type": "markdown",
   "id": "b381bd08",
   "metadata": {},
   "source": [
    "**train_peptides: Mass spectrometry data at the peptide level. Peptides are the component subunits of proteins.**\n",
    "\n",
    "visit_id - ID code for the visit.\n",
    "\n",
    "visit_month - The month of the visit, relative to the first visit by the patient.\n",
    "\n",
    "patient_id - An ID code for the patient.\n",
    "\n",
    "UniProt - The UniProt ID code for the associated protein. There are often several peptides per protein.\n",
    "\n",
    "Peptide - The sequence of amino acids included in the peptide. See this table for the relevant codes. Some rare annotations may not be included in the table. The test set may include peptides not found in the train set.\n",
    "\n",
    "PeptideAbundance - The frequency of the amino acid in the sample.\n",
    "\n",
    "\n",
    "**train_proteins: Protein expression frequencies aggregated from the peptide level data.**\n",
    "\n",
    "visit_id - ID code for the visit.\n",
    "\n",
    "visit_month - The month of the visit, relative to the first visit by the patient.\n",
    "\n",
    "patient_id - An ID code for the patient.\n",
    "\n",
    "UniProt - The UniProt ID code for the associated protein. There are often several peptides per protein. The test set may include proteins not found in the train set.\n",
    "\n",
    "NPX - Normalized protein expression. The frequency of the protein's occurrence in the sample. May not have a 1:1 relationship with the component peptides as some proteins contain repeated copies of a given peptide.\n",
    "\n",
    "\n",
    "**train_clinical_data.csv**\n",
    "\n",
    "visit_id - ID code for the visit.\n",
    "\n",
    "visit_month - The month of the visit, relative to the first visit by the patient.\n",
    "\n",
    "patient_id - An ID code for the patient.\n",
    "\n",
    "updrs_[1-4] - The patient's score for part N of the Unified Parkinson's Disease Rating Scale. Higher numbers indicate more severe symptoms. Each sub-section covers a distinct category of symptoms, such as mood and behavior for Part 1 and motor functions for Part 3.\n",
    "\n",
    "upd23b_clinical_state_on_medication - Whether or not the patient was taking medication such as Levodopa during the UPDRS assessment. Expected to mainly affect the scores for Part 3 (motor function). These medications wear off fairly quickly (on the order of one day) so it's common for patients to take the motor function exam twice in a single month, both with and without medication."
   ]
  },
  {
   "cell_type": "markdown",
   "id": "1c70047d",
   "metadata": {},
   "source": [
    "#### IDENTIFYING THE MISSING VALUES"
   ]
  },
  {
   "cell_type": "code",
   "execution_count": 84,
   "id": "079b1eef",
   "metadata": {},
   "outputs": [
    {
     "data": {
      "text/plain": [
       "visit_id                                  0\n",
       "patient_id                                0\n",
       "visit_month                               0\n",
       "updrs_1                                   1\n",
       "updrs_2                                   2\n",
       "updrs_3                                  25\n",
       "updrs_4                                1038\n",
       "upd23b_clinical_state_on_medication    1327\n",
       "dtype: int64"
      ]
     },
     "execution_count": 84,
     "metadata": {},
     "output_type": "execute_result"
    },
    {
     "data": {
      "text/plain": [
       "visit_id       0\n",
       "visit_month    0\n",
       "patient_id     0\n",
       "UniProt        0\n",
       "NPX            0\n",
       "dtype: int64"
      ]
     },
     "execution_count": 84,
     "metadata": {},
     "output_type": "execute_result"
    },
    {
     "data": {
      "text/plain": [
       "visit_id            0\n",
       "visit_month         0\n",
       "patient_id          0\n",
       "UniProt             0\n",
       "Peptide             0\n",
       "PeptideAbundance    0\n",
       "dtype: int64"
      ]
     },
     "execution_count": 84,
     "metadata": {},
     "output_type": "execute_result"
    }
   ],
   "source": [
    "train_clinical.isna().sum()\n",
    "train_proteins.isna().sum()\n",
    "train_peptides.isna().sum()"
   ]
  },
  {
   "cell_type": "code",
   "execution_count": 12,
   "id": "a65407d9",
   "metadata": {},
   "outputs": [
    {
     "data": {
      "image/png": "[encoded data removed]",
      "text/plain": [
       "<Figure size 500x500 with 1 Axes>"
      ]
     },
     "metadata": {},
     "output_type": "display_data"
    }
   ],
   "source": [
    "train_clinical[\"null_count\"] = train_clinical.isnull().sum(axis=1)\n",
    "count_train_clin = train_clinical.groupby(\"null_count\")[\"visit_id\"].count().to_dict()\n",
    "null_train_clin = {\"{} Null Value(s)\".format(k): v for k, v in count_train_clin.items()}\n",
    "\n",
    "fig, ax = plt.subplots(figsize=(5, 5))\n",
    "\n",
    "_ = ax.pie(\n",
    "    x=list(null_train_clin.values()),\n",
    "    autopct=lambda x: \"{:,.0f} = {:.2f}%\".format(x * sum(null_train_clin.values()) / 100, x),\n",
    "    explode=[0.05] * len(null_train_clin.keys()),\n",
    "    labels=null_train_clin.keys(),\n",
    "    colors=sns.color_palette(\"Set2\")[0:len(null_train_clin.keys())],\n",
    ")\n",
    "_ = ax.set_title(\"Null Values Per Row in Clinical Data\", fontsize=15)"
   ]
  },
  {
   "cell_type": "markdown",
   "id": "7bbef8c4",
   "metadata": {},
   "source": [
    "#### MERGING THE DATASET AS PER THE REQUIREMENT"
   ]
  },
  {
   "cell_type": "code",
   "execution_count": 85,
   "id": "c9fb174e",
   "metadata": {},
   "outputs": [
    {
     "data": {
      "text/html": [
       "<div>\n",
       "<style scoped>\n",
       "    .dataframe tbody tr th:only-of-type {\n",
       "        vertical-align: middle;\n",
       "    }\n",
       "\n",
       "    .dataframe tbody tr th {\n",
       "        vertical-align: top;\n",
       "    }\n",
       "\n",
       "    .dataframe thead th {\n",
       "        text-align: right;\n",
       "    }\n",
       "</style>\n",
       "<table border=\"1\" class=\"dataframe\">\n",
       "  <thead>\n",
       "    <tr style=\"text-align: right;\">\n",
       "      <th></th>\n",
       "      <th>visit_id</th>\n",
       "      <th>patient_id</th>\n",
       "      <th>visit_month</th>\n",
       "      <th>updrs_1</th>\n",
       "      <th>updrs_2</th>\n",
       "      <th>updrs_3</th>\n",
       "      <th>updrs_4</th>\n",
       "      <th>upd23b_clinical_state_on_medication</th>\n",
       "      <th>UniProt</th>\n",
       "      <th>NPX</th>\n",
       "    </tr>\n",
       "  </thead>\n",
       "  <tbody>\n",
       "    <tr>\n",
       "      <th>0</th>\n",
       "      <td>55_0</td>\n",
       "      <td>55</td>\n",
       "      <td>0</td>\n",
       "      <td>10.0</td>\n",
       "      <td>6.0</td>\n",
       "      <td>15.0</td>\n",
       "      <td>NaN</td>\n",
       "      <td>NaN</td>\n",
       "      <td>O00391</td>\n",
       "      <td>11254.3</td>\n",
       "    </tr>\n",
       "    <tr>\n",
       "      <th>1</th>\n",
       "      <td>55_0</td>\n",
       "      <td>55</td>\n",
       "      <td>0</td>\n",
       "      <td>10.0</td>\n",
       "      <td>6.0</td>\n",
       "      <td>15.0</td>\n",
       "      <td>NaN</td>\n",
       "      <td>NaN</td>\n",
       "      <td>O00533</td>\n",
       "      <td>732430.0</td>\n",
       "    </tr>\n",
       "    <tr>\n",
       "      <th>2</th>\n",
       "      <td>55_0</td>\n",
       "      <td>55</td>\n",
       "      <td>0</td>\n",
       "      <td>10.0</td>\n",
       "      <td>6.0</td>\n",
       "      <td>15.0</td>\n",
       "      <td>NaN</td>\n",
       "      <td>NaN</td>\n",
       "      <td>O00584</td>\n",
       "      <td>39585.8</td>\n",
       "    </tr>\n",
       "    <tr>\n",
       "      <th>3</th>\n",
       "      <td>55_0</td>\n",
       "      <td>55</td>\n",
       "      <td>0</td>\n",
       "      <td>10.0</td>\n",
       "      <td>6.0</td>\n",
       "      <td>15.0</td>\n",
       "      <td>NaN</td>\n",
       "      <td>NaN</td>\n",
       "      <td>O14498</td>\n",
       "      <td>41526.9</td>\n",
       "    </tr>\n",
       "    <tr>\n",
       "      <th>4</th>\n",
       "      <td>55_0</td>\n",
       "      <td>55</td>\n",
       "      <td>0</td>\n",
       "      <td>10.0</td>\n",
       "      <td>6.0</td>\n",
       "      <td>15.0</td>\n",
       "      <td>NaN</td>\n",
       "      <td>NaN</td>\n",
       "      <td>O14773</td>\n",
       "      <td>31238.0</td>\n",
       "    </tr>\n",
       "  </tbody>\n",
       "</table>\n",
       "</div>"
      ],
      "text/plain": [
       "  visit_id  patient_id  visit_month  updrs_1  updrs_2  updrs_3  updrs_4  \\\n",
       "0     55_0          55            0     10.0      6.0     15.0      NaN   \n",
       "1     55_0          55            0     10.0      6.0     15.0      NaN   \n",
       "2     55_0          55            0     10.0      6.0     15.0      NaN   \n",
       "3     55_0          55            0     10.0      6.0     15.0      NaN   \n",
       "4     55_0          55            0     10.0      6.0     15.0      NaN   \n",
       "\n",
       "  upd23b_clinical_state_on_medication UniProt       NPX  \n",
       "0                                 NaN  O00391   11254.3  \n",
       "1                                 NaN  O00533  732430.0  \n",
       "2                                 NaN  O00584   39585.8  \n",
       "3                                 NaN  O14498   41526.9  \n",
       "4                                 NaN  O14773   31238.0  "
      ]
     },
     "execution_count": 85,
     "metadata": {},
     "output_type": "execute_result"
    },
    {
     "data": {
      "text/plain": [
       "(223268, 10)"
      ]
     },
     "execution_count": 85,
     "metadata": {},
     "output_type": "execute_result"
    }
   ],
   "source": [
    "merged_data = pd.merge(train_clinical, train_proteins, on=[\"visit_id\", \"visit_month\", \"patient_id\"])\n",
    "merged_data.head()\n",
    "merged_data.shape"
   ]
  },
  {
   "cell_type": "code",
   "execution_count": 175,
   "id": "991db6ef",
   "metadata": {},
   "outputs": [
    {
     "data": {
      "text/html": [
       "<div>\n",
       "<style scoped>\n",
       "    .dataframe tbody tr th:only-of-type {\n",
       "        vertical-align: middle;\n",
       "    }\n",
       "\n",
       "    .dataframe tbody tr th {\n",
       "        vertical-align: top;\n",
       "    }\n",
       "\n",
       "    .dataframe thead th {\n",
       "        text-align: right;\n",
       "    }\n",
       "</style>\n",
       "<table border=\"1\" class=\"dataframe\">\n",
       "  <thead>\n",
       "    <tr style=\"text-align: right;\">\n",
       "      <th></th>\n",
       "      <th>visit_month</th>\n",
       "      <th>updrs_1</th>\n",
       "      <th>updrs_2</th>\n",
       "      <th>updrs_3</th>\n",
       "      <th>updrs_4</th>\n",
       "      <th>upd23b_clinical_state_on_medication</th>\n",
       "      <th>UniProt</th>\n",
       "      <th>NPX</th>\n",
       "    </tr>\n",
       "  </thead>\n",
       "  <tbody>\n",
       "    <tr>\n",
       "      <th>126912</th>\n",
       "      <td>12</td>\n",
       "      <td>4.0</td>\n",
       "      <td>0.0</td>\n",
       "      <td>0.0</td>\n",
       "      <td>0.0</td>\n",
       "      <td>1.0</td>\n",
       "      <td>108</td>\n",
       "      <td>75013.00</td>\n",
       "    </tr>\n",
       "    <tr>\n",
       "      <th>123724</th>\n",
       "      <td>12</td>\n",
       "      <td>11.0</td>\n",
       "      <td>5.0</td>\n",
       "      <td>18.0</td>\n",
       "      <td>0.0</td>\n",
       "      <td>1.0</td>\n",
       "      <td>73</td>\n",
       "      <td>576816.00</td>\n",
       "    </tr>\n",
       "    <tr>\n",
       "      <th>53658</th>\n",
       "      <td>0</td>\n",
       "      <td>2.0</td>\n",
       "      <td>0.0</td>\n",
       "      <td>1.0</td>\n",
       "      <td>NaN</td>\n",
       "      <td>1.0</td>\n",
       "      <td>150</td>\n",
       "      <td>51416.90</td>\n",
       "    </tr>\n",
       "    <tr>\n",
       "      <th>74012</th>\n",
       "      <td>24</td>\n",
       "      <td>11.0</td>\n",
       "      <td>13.0</td>\n",
       "      <td>39.0</td>\n",
       "      <td>0.0</td>\n",
       "      <td>0.0</td>\n",
       "      <td>18</td>\n",
       "      <td>91722.80</td>\n",
       "    </tr>\n",
       "    <tr>\n",
       "      <th>3921</th>\n",
       "      <td>48</td>\n",
       "      <td>6.0</td>\n",
       "      <td>0.0</td>\n",
       "      <td>0.0</td>\n",
       "      <td>NaN</td>\n",
       "      <td>1.0</td>\n",
       "      <td>35</td>\n",
       "      <td>9155.16</td>\n",
       "    </tr>\n",
       "    <tr>\n",
       "      <th>...</th>\n",
       "      <td>...</td>\n",
       "      <td>...</td>\n",
       "      <td>...</td>\n",
       "      <td>...</td>\n",
       "      <td>...</td>\n",
       "      <td>...</td>\n",
       "      <td>...</td>\n",
       "      <td>...</td>\n",
       "    </tr>\n",
       "    <tr>\n",
       "      <th>22493</th>\n",
       "      <td>60</td>\n",
       "      <td>7.0</td>\n",
       "      <td>3.0</td>\n",
       "      <td>39.0</td>\n",
       "      <td>3.0</td>\n",
       "      <td>0.0</td>\n",
       "      <td>168</td>\n",
       "      <td>9994.49</td>\n",
       "    </tr>\n",
       "    <tr>\n",
       "      <th>47250</th>\n",
       "      <td>24</td>\n",
       "      <td>8.0</td>\n",
       "      <td>6.0</td>\n",
       "      <td>24.0</td>\n",
       "      <td>8.0</td>\n",
       "      <td>0.0</td>\n",
       "      <td>116</td>\n",
       "      <td>547400.00</td>\n",
       "    </tr>\n",
       "    <tr>\n",
       "      <th>119213</th>\n",
       "      <td>12</td>\n",
       "      <td>28.0</td>\n",
       "      <td>4.0</td>\n",
       "      <td>15.0</td>\n",
       "      <td>NaN</td>\n",
       "      <td>1.0</td>\n",
       "      <td>12</td>\n",
       "      <td>60992.00</td>\n",
       "    </tr>\n",
       "    <tr>\n",
       "      <th>193229</th>\n",
       "      <td>12</td>\n",
       "      <td>13.0</td>\n",
       "      <td>20.0</td>\n",
       "      <td>47.0</td>\n",
       "      <td>NaN</td>\n",
       "      <td>0.0</td>\n",
       "      <td>185</td>\n",
       "      <td>15715.90</td>\n",
       "    </tr>\n",
       "    <tr>\n",
       "      <th>42268</th>\n",
       "      <td>48</td>\n",
       "      <td>8.0</td>\n",
       "      <td>4.0</td>\n",
       "      <td>5.0</td>\n",
       "      <td>0.0</td>\n",
       "      <td>1.0</td>\n",
       "      <td>53</td>\n",
       "      <td>785986.00</td>\n",
       "    </tr>\n",
       "  </tbody>\n",
       "</table>\n",
       "<p>14288 rows × 8 columns</p>\n",
       "</div>"
      ],
      "text/plain": [
       "        visit_month  updrs_1  updrs_2  updrs_3  updrs_4  \\\n",
       "126912           12      4.0      0.0      0.0      0.0   \n",
       "123724           12     11.0      5.0     18.0      0.0   \n",
       "53658             0      2.0      0.0      1.0      NaN   \n",
       "74012            24     11.0     13.0     39.0      0.0   \n",
       "3921             48      6.0      0.0      0.0      NaN   \n",
       "...             ...      ...      ...      ...      ...   \n",
       "22493            60      7.0      3.0     39.0      3.0   \n",
       "47250            24      8.0      6.0     24.0      8.0   \n",
       "119213           12     28.0      4.0     15.0      NaN   \n",
       "193229           12     13.0     20.0     47.0      NaN   \n",
       "42268            48      8.0      4.0      5.0      0.0   \n",
       "\n",
       "        upd23b_clinical_state_on_medication  UniProt        NPX  \n",
       "126912                                  1.0      108   75013.00  \n",
       "123724                                  1.0       73  576816.00  \n",
       "53658                                   1.0      150   51416.90  \n",
       "74012                                   0.0       18   91722.80  \n",
       "3921                                    1.0       35    9155.16  \n",
       "...                                     ...      ...        ...  \n",
       "22493                                   0.0      168    9994.49  \n",
       "47250                                   0.0      116  547400.00  \n",
       "119213                                  1.0       12   60992.00  \n",
       "193229                                  0.0      185   15715.90  \n",
       "42268                                   1.0       53  785986.00  \n",
       "\n",
       "[14288 rows x 8 columns]"
      ]
     },
     "execution_count": 175,
     "metadata": {},
     "output_type": "execute_result"
    }
   ],
   "source": [
    "columns_to_drop = ['visit_id', 'patient_id']\n",
    "merged_data_1=merged_data.drop(columns=columns_to_drop)\n",
    "merged_data_1"
   ]
  },
  {
   "cell_type": "code",
   "execution_count": 176,
   "id": "ffffc71d",
   "metadata": {},
   "outputs": [],
   "source": [
    "total_lines = 223268\n",
    "num_lines = 0.4 * total_lines    # 40% of data\n",
    "\n",
    "\n",
    "# 2.4 Read randomly 'p' fraction of files\n",
    "#     Ref: https://stackoverflow.com/a/48589768\n",
    "\n",
    "p = num_lines/total_lines  # fraction of lines to read (40%)"
   ]
  },
  {
   "cell_type": "code",
   "execution_count": 178,
   "id": "14d02333",
   "metadata": {},
   "outputs": [
    {
     "data": {
      "text/plain": [
       "(5715, 8)"
      ]
     },
     "execution_count": 178,
     "metadata": {},
     "output_type": "execute_result"
    }
   ],
   "source": [
    "import numpy as np\n",
    "\n",
    "# Define the fraction of data to sample\n",
    "fraction_to_sample = 0.4\n",
    "\n",
    "# Calculate the number of rows to sample\n",
    "num_rows_to_sample = int(len(merged_data_1) * fraction_to_sample)\n",
    "\n",
    "# Use numpy to randomly sample rows\n",
    "sampled_data = merged_data_1.sample(n=num_rows_to_sample, random_state=42)  # Set random_state for reproducibility\n",
    "\n",
    "# Now 'sampled_data' contains 40% of the rows from 'merged_data'\n",
    "sampled_data.shape"
   ]
  },
  {
   "cell_type": "code",
   "execution_count": 181,
   "id": "8d741e8f",
   "metadata": {},
   "outputs": [],
   "source": [
    "merged_data_2 = sampled_data.copy()"
   ]
  },
  {
   "cell_type": "markdown",
   "id": "9b84855b",
   "metadata": {},
   "source": [
    "#### TREATING THE MISSING VALUES"
   ]
  },
  {
   "cell_type": "code",
   "execution_count": 182,
   "id": "04a0d17e",
   "metadata": {},
   "outputs": [
    {
     "name": "stderr",
     "output_type": "stream",
     "text": [
      "C:\\Users\\Prabhleen Kaur Pahwa\\anaconda3\\lib\\site-packages\\sklearn\\impute\\_base.py:49: FutureWarning: Unlike other reduction functions (e.g. `skew`, `kurtosis`), the default behavior of `mode` typically preserves the axis it acts along. In SciPy 1.11.0, this behavior will change: the default value of `keepdims` will become False, the `axis` over which the statistic is taken will be eliminated, and the value None will no longer be accepted. Set `keepdims` to True or False to avoid this warning.\n",
      "  mode = stats.mode(array)\n"
     ]
    },
    {
     "data": {
      "text/html": [
       "<div>\n",
       "<style scoped>\n",
       "    .dataframe tbody tr th:only-of-type {\n",
       "        vertical-align: middle;\n",
       "    }\n",
       "\n",
       "    .dataframe tbody tr th {\n",
       "        vertical-align: top;\n",
       "    }\n",
       "\n",
       "    .dataframe thead th {\n",
       "        text-align: right;\n",
       "    }\n",
       "</style>\n",
       "<table border=\"1\" class=\"dataframe\">\n",
       "  <thead>\n",
       "    <tr style=\"text-align: right;\">\n",
       "      <th></th>\n",
       "      <th>visit_month</th>\n",
       "      <th>updrs_1</th>\n",
       "      <th>updrs_2</th>\n",
       "      <th>updrs_3</th>\n",
       "      <th>updrs_4</th>\n",
       "      <th>upd23b_clinical_state_on_medication</th>\n",
       "      <th>UniProt</th>\n",
       "      <th>NPX</th>\n",
       "    </tr>\n",
       "  </thead>\n",
       "  <tbody>\n",
       "    <tr>\n",
       "      <th>0</th>\n",
       "      <td>24.0</td>\n",
       "      <td>6.0</td>\n",
       "      <td>3.0</td>\n",
       "      <td>0.0</td>\n",
       "      <td>0.0</td>\n",
       "      <td>1.0</td>\n",
       "      <td>117.0</td>\n",
       "      <td>152396.0</td>\n",
       "    </tr>\n",
       "    <tr>\n",
       "      <th>1</th>\n",
       "      <td>12.0</td>\n",
       "      <td>5.0</td>\n",
       "      <td>11.0</td>\n",
       "      <td>20.0</td>\n",
       "      <td>0.0</td>\n",
       "      <td>1.0</td>\n",
       "      <td>109.0</td>\n",
       "      <td>315970.0</td>\n",
       "    </tr>\n",
       "    <tr>\n",
       "      <th>2</th>\n",
       "      <td>24.0</td>\n",
       "      <td>2.0</td>\n",
       "      <td>3.0</td>\n",
       "      <td>9.0</td>\n",
       "      <td>0.0</td>\n",
       "      <td>1.0</td>\n",
       "      <td>114.0</td>\n",
       "      <td>221804.0</td>\n",
       "    </tr>\n",
       "    <tr>\n",
       "      <th>3</th>\n",
       "      <td>12.0</td>\n",
       "      <td>13.0</td>\n",
       "      <td>14.0</td>\n",
       "      <td>43.0</td>\n",
       "      <td>0.0</td>\n",
       "      <td>1.0</td>\n",
       "      <td>147.0</td>\n",
       "      <td>594888.0</td>\n",
       "    </tr>\n",
       "    <tr>\n",
       "      <th>4</th>\n",
       "      <td>48.0</td>\n",
       "      <td>12.0</td>\n",
       "      <td>16.0</td>\n",
       "      <td>78.0</td>\n",
       "      <td>13.0</td>\n",
       "      <td>0.0</td>\n",
       "      <td>99.0</td>\n",
       "      <td>277453.0</td>\n",
       "    </tr>\n",
       "    <tr>\n",
       "      <th>...</th>\n",
       "      <td>...</td>\n",
       "      <td>...</td>\n",
       "      <td>...</td>\n",
       "      <td>...</td>\n",
       "      <td>...</td>\n",
       "      <td>...</td>\n",
       "      <td>...</td>\n",
       "      <td>...</td>\n",
       "    </tr>\n",
       "    <tr>\n",
       "      <th>5710</th>\n",
       "      <td>60.0</td>\n",
       "      <td>3.0</td>\n",
       "      <td>1.0</td>\n",
       "      <td>28.0</td>\n",
       "      <td>5.0</td>\n",
       "      <td>0.0</td>\n",
       "      <td>182.0</td>\n",
       "      <td>17877.4</td>\n",
       "    </tr>\n",
       "    <tr>\n",
       "      <th>5711</th>\n",
       "      <td>36.0</td>\n",
       "      <td>15.0</td>\n",
       "      <td>14.0</td>\n",
       "      <td>28.0</td>\n",
       "      <td>3.0</td>\n",
       "      <td>1.0</td>\n",
       "      <td>9.0</td>\n",
       "      <td>121039.0</td>\n",
       "    </tr>\n",
       "    <tr>\n",
       "      <th>5712</th>\n",
       "      <td>60.0</td>\n",
       "      <td>1.0</td>\n",
       "      <td>8.0</td>\n",
       "      <td>19.0</td>\n",
       "      <td>0.0</td>\n",
       "      <td>0.0</td>\n",
       "      <td>159.0</td>\n",
       "      <td>43318200.0</td>\n",
       "    </tr>\n",
       "    <tr>\n",
       "      <th>5713</th>\n",
       "      <td>36.0</td>\n",
       "      <td>16.0</td>\n",
       "      <td>13.0</td>\n",
       "      <td>37.0</td>\n",
       "      <td>0.0</td>\n",
       "      <td>0.0</td>\n",
       "      <td>13.0</td>\n",
       "      <td>36321.1</td>\n",
       "    </tr>\n",
       "    <tr>\n",
       "      <th>5714</th>\n",
       "      <td>30.0</td>\n",
       "      <td>14.0</td>\n",
       "      <td>15.0</td>\n",
       "      <td>29.0</td>\n",
       "      <td>2.0</td>\n",
       "      <td>1.0</td>\n",
       "      <td>8.0</td>\n",
       "      <td>95687.9</td>\n",
       "    </tr>\n",
       "  </tbody>\n",
       "</table>\n",
       "<p>5715 rows × 8 columns</p>\n",
       "</div>"
      ],
      "text/plain": [
       "      visit_month  updrs_1  updrs_2  updrs_3  updrs_4  \\\n",
       "0            24.0      6.0      3.0      0.0      0.0   \n",
       "1            12.0      5.0     11.0     20.0      0.0   \n",
       "2            24.0      2.0      3.0      9.0      0.0   \n",
       "3            12.0     13.0     14.0     43.0      0.0   \n",
       "4            48.0     12.0     16.0     78.0     13.0   \n",
       "...           ...      ...      ...      ...      ...   \n",
       "5710         60.0      3.0      1.0     28.0      5.0   \n",
       "5711         36.0     15.0     14.0     28.0      3.0   \n",
       "5712         60.0      1.0      8.0     19.0      0.0   \n",
       "5713         36.0     16.0     13.0     37.0      0.0   \n",
       "5714         30.0     14.0     15.0     29.0      2.0   \n",
       "\n",
       "      upd23b_clinical_state_on_medication  UniProt         NPX  \n",
       "0                                     1.0    117.0    152396.0  \n",
       "1                                     1.0    109.0    315970.0  \n",
       "2                                     1.0    114.0    221804.0  \n",
       "3                                     1.0    147.0    594888.0  \n",
       "4                                     0.0     99.0    277453.0  \n",
       "...                                   ...      ...         ...  \n",
       "5710                                  0.0    182.0     17877.4  \n",
       "5711                                  1.0      9.0    121039.0  \n",
       "5712                                  0.0    159.0  43318200.0  \n",
       "5713                                  0.0     13.0     36321.1  \n",
       "5714                                  1.0      8.0     95687.9  \n",
       "\n",
       "[5715 rows x 8 columns]"
      ]
     },
     "execution_count": 182,
     "metadata": {},
     "output_type": "execute_result"
    },
    {
     "name": "stdout",
     "output_type": "stream",
     "text": [
      "<class 'pandas.core.frame.DataFrame'>\n",
      "RangeIndex: 5715 entries, 0 to 5714\n",
      "Data columns (total 8 columns):\n",
      " #   Column                               Non-Null Count  Dtype  \n",
      "---  ------                               --------------  -----  \n",
      " 0   visit_month                          5715 non-null   float64\n",
      " 1   updrs_1                              5715 non-null   float64\n",
      " 2   updrs_2                              5715 non-null   float64\n",
      " 3   updrs_3                              5715 non-null   float64\n",
      " 4   updrs_4                              5715 non-null   float64\n",
      " 5   upd23b_clinical_state_on_medication  5715 non-null   float64\n",
      " 6   UniProt                              5715 non-null   float64\n",
      " 7   NPX                                  5715 non-null   float64\n",
      "dtypes: float64(8)\n",
      "memory usage: 357.3 KB\n"
     ]
    }
   ],
   "source": [
    "# Handle missing values\n",
    "imputer = SimpleImputer(missing_values=np.nan, strategy='most_frequent')\n",
    "imputer_fit = imputer.fit_transform(merged_data_2)\n",
    "merged_data_si = pd.DataFrame(imputer_fit, columns=merged_data.columns); merged_data_si # Missing Non-Categorical Data Imputed Subset using Simple Imputer\n",
    "merged_data_si.info()\n"
   ]
  },
  {
   "cell_type": "code",
   "execution_count": 183,
   "id": "3328d9f9",
   "metadata": {},
   "outputs": [
    {
     "data": {
      "text/plain": [
       "visit_month                            0\n",
       "updrs_1                                0\n",
       "updrs_2                                0\n",
       "updrs_3                                0\n",
       "updrs_4                                0\n",
       "upd23b_clinical_state_on_medication    0\n",
       "UniProt                                0\n",
       "NPX                                    0\n",
       "dtype: int64"
      ]
     },
     "execution_count": 183,
     "metadata": {},
     "output_type": "execute_result"
    }
   ],
   "source": [
    "merged_data_si.isna().sum()"
   ]
  },
  {
   "cell_type": "code",
   "execution_count": 184,
   "id": "8da8b85a",
   "metadata": {},
   "outputs": [],
   "source": [
    "df1=merged_data_si.copy()"
   ]
  },
  {
   "cell_type": "markdown",
   "id": "75803280",
   "metadata": {},
   "source": [
    "#### ENCODING THE DATA"
   ]
  },
  {
   "cell_type": "code",
   "execution_count": 185,
   "id": "bbe37a1c",
   "metadata": {},
   "outputs": [],
   "source": [
    "# Encode categorical features (e.g., UniProt, upd23b_clinical_state_on_medication)\n",
    "label_encoder = LabelEncoder()\n",
    "df1['UniProt'] = label_encoder.fit_transform(df1['UniProt'])\n",
    "\n",
    "ordinal_encoder = OrdinalEncoder()\n",
    "df1['upd23b_clinical_state_on_medication'] = ordinal_encoder.fit_transform(df1['upd23b_clinical_state_on_medication'].values.reshape(-1, 1))"
   ]
  },
  {
   "cell_type": "markdown",
   "id": "7f0f229c",
   "metadata": {},
   "source": [
    "#### DIVIDING THE DATA INTO TEST AND TRAIN"
   ]
  },
  {
   "cell_type": "code",
   "execution_count": 186,
   "id": "3a4b32c7",
   "metadata": {},
   "outputs": [],
   "source": [
    "X = df1.drop([\"updrs_1\", \"updrs_2\", \"updrs_3\", \"updrs_4\"], axis=1)\n",
    "y = df1[[\"updrs_1\", \"updrs_2\", \"updrs_3\", \"updrs_4\"]]"
   ]
  },
  {
   "cell_type": "code",
   "execution_count": 187,
   "id": "5bef5b40",
   "metadata": {},
   "outputs": [],
   "source": [
    "# Dividing data into training and validation subsets\n",
    "X_train, X_valid, y_train, y_valid = train_test_split(X, y, train_size=0.8, test_size=0.2,\n",
    "                                                      random_state=0)"
   ]
  },
  {
   "cell_type": "code",
   "execution_count": 188,
   "id": "2107da8f",
   "metadata": {},
   "outputs": [
    {
     "data": {
      "text/plain": [
       "visit_month                            0\n",
       "upd23b_clinical_state_on_medication    0\n",
       "UniProt                                0\n",
       "NPX                                    0\n",
       "dtype: int64"
      ]
     },
     "execution_count": 188,
     "metadata": {},
     "output_type": "execute_result"
    },
    {
     "data": {
      "text/plain": [
       "updrs_1    0\n",
       "updrs_2    0\n",
       "updrs_3    0\n",
       "updrs_4    0\n",
       "dtype: int64"
      ]
     },
     "execution_count": 188,
     "metadata": {},
     "output_type": "execute_result"
    }
   ],
   "source": [
    "X.isna().sum()\n",
    "y.isna().sum()"
   ]
  },
  {
   "cell_type": "markdown",
   "id": "6b522473",
   "metadata": {},
   "source": [
    "#### CREATING A PIPELINE"
   ]
  },
  {
   "cell_type": "code",
   "execution_count": 189,
   "id": "1bbf532c",
   "metadata": {},
   "outputs": [],
   "source": [
    "steps_rr = [\n",
    "    ('scaler', StandardScaler()),            # Step 1: StandardScaler\n",
    "    ('regressor', RandomForestRegressor())  # Step 2: RandomForestRegressor\n",
    "]"
   ]
  },
  {
   "cell_type": "code",
   "execution_count": 190,
   "id": "6c946ddd",
   "metadata": {},
   "outputs": [],
   "source": [
    "pipe_rr = Pipeline(steps_rr)"
   ]
  },
  {
   "cell_type": "code",
   "execution_count": 191,
   "id": "bc4eec87",
   "metadata": {},
   "outputs": [
    {
     "data": {
      "text/plain": [
       "{'memory': None,\n",
       " 'steps': [('scaler', StandardScaler()),\n",
       "  ('regressor', RandomForestRegressor())],\n",
       " 'verbose': False,\n",
       " 'scaler': StandardScaler(),\n",
       " 'regressor': RandomForestRegressor(),\n",
       " 'scaler__copy': True,\n",
       " 'scaler__with_mean': True,\n",
       " 'scaler__with_std': True,\n",
       " 'regressor__bootstrap': True,\n",
       " 'regressor__ccp_alpha': 0.0,\n",
       " 'regressor__criterion': 'squared_error',\n",
       " 'regressor__max_depth': None,\n",
       " 'regressor__max_features': 'auto',\n",
       " 'regressor__max_leaf_nodes': None,\n",
       " 'regressor__max_samples': None,\n",
       " 'regressor__min_impurity_decrease': 0.0,\n",
       " 'regressor__min_samples_leaf': 1,\n",
       " 'regressor__min_samples_split': 2,\n",
       " 'regressor__min_weight_fraction_leaf': 0.0,\n",
       " 'regressor__n_estimators': 100,\n",
       " 'regressor__n_jobs': None,\n",
       " 'regressor__oob_score': False,\n",
       " 'regressor__random_state': None,\n",
       " 'regressor__verbose': 0,\n",
       " 'regressor__warm_start': False}"
      ]
     },
     "execution_count": 191,
     "metadata": {},
     "output_type": "execute_result"
    }
   ],
   "source": [
    "pipe_rr.get_params()"
   ]
  },
  {
   "cell_type": "code",
   "execution_count": 208,
   "id": "be186b3f",
   "metadata": {},
   "outputs": [],
   "source": [
    "from sklearn.model_selection import GridSearchCV\n",
    "\n",
    "parameters = {\n",
    "    'n_estimators': [100, 200],\n",
    "    'max_depth': [None, 10, 20],\n",
    "    'min_samples_split': [2, 5],\n",
    "    'min_samples_leaf': [1, 2,4]\n",
    "}\n",
    "\n",
    "clf = GridSearchCV(estimator=RandomForestRegressor(random_state=40),\n",
    "                           param_grid=parameters,\n",
    "                           scoring='neg_mean_squared_error',\n",
    "                           cv=5,\n",
    "                           n_jobs=-1,\n",
    "                           verbose=1)\n",
    "\n"
   ]
  },
  {
   "cell_type": "code",
   "execution_count": 209,
   "id": "6efe2f0c",
   "metadata": {},
   "outputs": [
    {
     "name": "stdout",
     "output_type": "stream",
     "text": [
      "\n",
      "\n",
      "--Takes time...---\n",
      "\n",
      "Fitting 5 folds for each of 36 candidates, totalling 180 fits\n"
     ]
    },
    {
     "data": {
      "text/plain": [
       "GridSearchCV(cv=5, estimator=RandomForestRegressor(random_state=40), n_jobs=-1,\n",
       "             param_grid={'max_depth': [None, 10, 20],\n",
       "                         'min_samples_leaf': [1, 2, 4],\n",
       "                         'min_samples_split': [2, 5],\n",
       "                         'n_estimators': [100, 200]},\n",
       "             scoring='neg_mean_squared_error', verbose=1)"
      ]
     },
     "execution_count": 209,
     "metadata": {},
     "output_type": "execute_result"
    },
    {
     "name": "stdout",
     "output_type": "stream",
     "text": [
      "\n"
     ]
    },
    {
     "data": {
      "text/plain": [
       "0.6394028862317404"
      ]
     },
     "execution_count": 209,
     "metadata": {},
     "output_type": "execute_result"
    }
   ],
   "source": [
    "# 7.2. Start fitting pipeline to data\n",
    "print(\"\\n\\n--Takes time...---\\n\")\n",
    "start = time.time()\n",
    "clf.fit(X_train, y_train)\n",
    "end = time.time()\n",
    "print()\n",
    "(end - start)/60               # 0.6394 minutes"
   ]
  },
  {
   "cell_type": "markdown",
   "id": "c3d50790",
   "metadata": {},
   "source": [
    "##### **Interpretation**:\n",
    "\n",
    "The elapsed time for fitting the pipeline and performing the grid search is approximately **0.591 minutes**, as calculated from the difference between the start and end times.\n",
    "\n",
    "The output shown is consistent with a typical grid search procedure. The verbose parameter set to 1 in the GridSearchCV constructor is causing the grid search to provide progress updates during its execution, showing the number of fits being performed and other relevant information. "
   ]
  },
  {
   "cell_type": "markdown",
   "id": "1f796940",
   "metadata": {},
   "source": [
    "#### PERFORMACE SCORES"
   ]
  },
  {
   "cell_type": "code",
   "execution_count": 212,
   "id": "ed16d7d3",
   "metadata": {},
   "outputs": [
    {
     "data": {
      "text/plain": [
       "'Best score: -56.40001727768477 '"
      ]
     },
     "execution_count": 212,
     "metadata": {},
     "output_type": "execute_result"
    },
    {
     "name": "stdout",
     "output_type": "stream",
     "text": [
      "\n"
     ]
    },
    {
     "data": {
      "text/plain": [
       "\"Best parameter set {'max_depth': 10, 'min_samples_leaf': 4, 'min_samples_split': 2, 'n_estimators': 200}\""
      ]
     },
     "execution_count": 212,
     "metadata": {},
     "output_type": "execute_result"
    }
   ],
   "source": [
    "# 7.3\n",
    "f\"Best score: {clf.best_score_} \"            # 'Best score: -56.40001727768477'\n",
    "\n",
    "# 7.3.1\n",
    "print()\n",
    "f\"Best parameter set {clf.best_params_}\""
   ]
  },
  {
   "cell_type": "markdown",
   "id": "03fb84bc",
   "metadata": {},
   "source": [
    "##### **Interpretation**\n",
    "\n",
    "**Best score: -0.0014936730393710943**\n",
    "\n",
    "1. The score is negative because we are using the negative mean squared error as the scoring metric ('neg_mean_squared_error'). \n",
    "\n",
    "2. The closer this value is to 0, the better the model's performance. In this case, a score of -56.510803085108776 suggests that your model's mean squared error is quite low\n",
    "\n",
    "3. \"Best parameter set {'max_depth': 10, 'min_samples_leaf': 2, 'min_samples_split': 5, 'n_estimators': 200}\"\n",
    "\n",
    "These results indicate that the grid search has identified a set of **hyperparameters** for RandomForestRegressor that achieved the best performance of the data based on the chosen negative mean squared error scoring metric. This set of hyperparameters will likely result in a model that generalizes well to new, unseen data."
   ]
  },
  {
   "cell_type": "code",
   "execution_count": 213,
   "id": "02dd6164",
   "metadata": {},
   "outputs": [
    {
     "name": "stdout",
     "output_type": "stream",
     "text": [
      "--Few predictions--\n",
      "\n"
     ]
    },
    {
     "data": {
      "text/plain": [
       "array([[ 7.37450309,  5.39367242, 12.72056602,  1.37743713],\n",
       "       [ 6.10641873,  4.58314834, 12.30869611,  1.01042417],\n",
       "       [ 4.5084657 ,  1.76626707,  4.94639682,  0.23417503],\n",
       "       [ 7.75170063,  9.01524964, 31.10639507,  1.76675885]])"
      ]
     },
     "execution_count": 213,
     "metadata": {},
     "output_type": "execute_result"
    }
   ],
   "source": [
    "# 7.4. Make predictions using the best returned model\n",
    "y_pred = clf.predict(X_valid)\n",
    "print(\"--Few predictions--\\n\")\n",
    "y_pred[:4]"
   ]
  },
  {
   "cell_type": "code",
   "execution_count": 214,
   "id": "d95eda85",
   "metadata": {},
   "outputs": [
    {
     "name": "stdout",
     "output_type": "stream",
     "text": [
      "Root Mean Squared Error: 6.274009217503642\n",
      "Mean Squared Error: 54.063650137487436\n"
     ]
    }
   ],
   "source": [
    "y_pred = clf.predict(X_valid)  # Assuming 'clf' is your trained regressor\n",
    "rmse = mean_squared_error(y_valid, y_pred, squared=False)\n",
    "print(f\"Root Mean Squared Error: {rmse}\")\n",
    "y_pred = clf.predict(X_valid)  # Assuming 'clf' is your trained regressor\n",
    "mse = mean_squared_error(y_valid, y_pred, squared=True)\n",
    "print(f\"Mean Squared Error: {mse}\")"
   ]
  },
  {
   "cell_type": "markdown",
   "id": "0630fe4d",
   "metadata": {},
   "source": [
    "##### **Interpretation**\n",
    "\n",
    "**Root Mean Squared Error (RMSE):**\n",
    "\n",
    "RMSE is a measure of the average error between your predicted and actual values.\n",
    "RMSE of **6.275824258864464**, means that, on average, the predictions have an error of about 6.275824258864464 units compared to the actual values.\n",
    "\n",
    "**Mean Square Error**\n",
    "\n",
    "MSE is similar to RMSE but without taking the square root. It measures the average squared error between your predicted and actual values.\n",
    "The MSE is approximately **54.16389671405232**, which is a very small value. This indicates that the squared errors between your predicted and actual values are extremely low on average.\n"
   ]
  },
  {
   "cell_type": "code",
   "execution_count": 215,
   "id": "ffa180b3",
   "metadata": {},
   "outputs": [
    {
     "data": {
      "text/plain": [
       "<Figure size 1000x600 with 0 Axes>"
      ]
     },
     "execution_count": 215,
     "metadata": {},
     "output_type": "execute_result"
    },
    {
     "data": {
      "text/plain": [
       "<matplotlib.collections.PathCollection at 0x1becea36130>"
      ]
     },
     "execution_count": 215,
     "metadata": {},
     "output_type": "execute_result"
    },
    {
     "data": {
      "text/plain": [
       "Text(0.5, 1.0, 'Scatter Plot of Predicted vs Actual Values')"
      ]
     },
     "execution_count": 215,
     "metadata": {},
     "output_type": "execute_result"
    },
    {
     "data": {
      "text/plain": [
       "Text(0.5, 0, 'Actual Values')"
      ]
     },
     "execution_count": 215,
     "metadata": {},
     "output_type": "execute_result"
    },
    {
     "data": {
      "text/plain": [
       "Text(0, 0.5, 'Predicted Values')"
      ]
     },
     "execution_count": 215,
     "metadata": {},
     "output_type": "execute_result"
    },
    {
     "data": {
      "image/png": "[encoded data removed]",
      "text/plain": [
       "<Figure size 1000x600 with 1 Axes>"
      ]
     },
     "metadata": {},
     "output_type": "display_data"
    }
   ],
   "source": [
    "# 7.6 Instead of Confusion matrix  creating scatter plot because the data is continuous \n",
    "import matplotlib.pyplot as plt\n",
    "\n",
    "# Assuming 'y_valid' contains the actual target values and 'y_pred' contains the predicted values\n",
    "plt.figure(figsize=(10, 6))\n",
    "plt.scatter(y_valid, y_pred, color='blue', alpha=0.5)\n",
    "plt.title(\"Scatter Plot of Predicted vs Actual Values\")\n",
    "plt.xlabel(\"Actual Values\")\n",
    "plt.ylabel(\"Predicted Values\")\n",
    "plt.show()"
   ]
  },
  {
   "cell_type": "markdown",
   "id": "7dc097ea",
   "metadata": {},
   "source": [
    "##### **Interpretation**\n",
    "\n",
    "y_valid contains the true target values from your validation set, and y_pred contain the predicted values from the model. \n",
    "\n",
    "The scatter plot should ideally show how well the model's predictions align with the actual values and the points should fall along a diagonal line, indicating that the predictions closely match the actual values. This is the what we see in the graph as well. Thus, we can conclude that the model is working fine. "
   ]
  },
  {
   "cell_type": "code",
   "execution_count": 216,
   "id": "e0c9558a",
   "metadata": {},
   "outputs": [
    {
     "data": {
      "text/plain": [
       "<Figure size 1000x600 with 0 Axes>"
      ]
     },
     "execution_count": 216,
     "metadata": {},
     "output_type": "execute_result"
    },
    {
     "data": {
      "text/plain": [
       "<matplotlib.collections.PathCollection at 0x1beb75d4e50>"
      ]
     },
     "execution_count": 216,
     "metadata": {},
     "output_type": "execute_result"
    },
    {
     "data": {
      "text/plain": [
       "<matplotlib.lines.Line2D at 0x1beb75d4d30>"
      ]
     },
     "execution_count": 216,
     "metadata": {},
     "output_type": "execute_result"
    },
    {
     "data": {
      "text/plain": [
       "Text(0.5, 1.0, 'Residual Plot')"
      ]
     },
     "execution_count": 216,
     "metadata": {},
     "output_type": "execute_result"
    },
    {
     "data": {
      "text/plain": [
       "Text(0.5, 0, 'Predicted Values')"
      ]
     },
     "execution_count": 216,
     "metadata": {},
     "output_type": "execute_result"
    },
    {
     "data": {
      "text/plain": [
       "Text(0, 0.5, 'Residuals (Actual - Predicted)')"
      ]
     },
     "execution_count": 216,
     "metadata": {},
     "output_type": "execute_result"
    },
    {
     "data": {
      "image/png": "[encoded data removed]",
      "text/plain": [
       "<Figure size 1000x600 with 1 Axes>"
      ]
     },
     "metadata": {},
     "output_type": "display_data"
    }
   ],
   "source": [
    "import matplotlib.pyplot as plt\n",
    "\n",
    "# Assuming 'y_valid' contains the actual target values and 'y_pred' contains the predicted values\n",
    "residuals = y_valid - y_pred\n",
    "\n",
    "plt.figure(figsize=(10, 6))\n",
    "plt.scatter(y_pred, residuals, color='blue', alpha=0.5)\n",
    "plt.axhline(y=0, color='red', linestyle='--')\n",
    "plt.title(\"Residual Plot\")\n",
    "plt.xlabel(\"Predicted Values\")\n",
    "plt.ylabel(\"Residuals (Actual - Predicted)\")\n",
    "plt.show()\n"
   ]
  },
  {
   "cell_type": "markdown",
   "id": "6b9782d3",
   "metadata": {},
   "source": [
    "##### **Interpretation**\n",
    "\n",
    "Ideally, the residuals should be randomly scattered around the horizontal line at y=0. If there's a clear pattern or trend in the residuals (e.g., a curve or systematic increase/decrease), it might indicate that your model is not capturing certain patterns in the data. The red dashed line at y=0 represents where the residuals would be if the predictions were perfect."
   ]
  },
  {
   "cell_type": "markdown",
   "id": "31d4bfb9",
   "metadata": {},
   "source": [
    "#### FEATURE IMPORTANCE"
   ]
  },
  {
   "cell_type": "code",
   "execution_count": 217,
   "id": "9f3e37ae",
   "metadata": {},
   "outputs": [
    {
     "name": "stdout",
     "output_type": "stream",
     "text": [
      "Number of features: 4\n",
      "Feature importances: [0.1401334  0.51417705 0.14254043 0.20314912]\n"
     ]
    }
   ],
   "source": [
    "# Assuming 'clf' is your trained GridSearchCV object and 'best_rf_model' is the best RandomForestRegressor model\n",
    "best_rf_model = clf.best_estimator_\n",
    "\n",
    "# Access feature importances\n",
    "feature_importances = best_rf_model.feature_importances_\n",
    "\n",
    "# Print the number of features and the feature importances\n",
    "print(\"Number of features:\", feature_importances.shape[0])\n",
    "print(\"Feature importances:\", feature_importances)   \n"
   ]
  },
  {
   "cell_type": "code",
   "execution_count": 218,
   "id": "369fe6eb",
   "metadata": {},
   "outputs": [
    {
     "data": {
      "text/html": [
       "<div>\n",
       "<style scoped>\n",
       "    .dataframe tbody tr th:only-of-type {\n",
       "        vertical-align: middle;\n",
       "    }\n",
       "\n",
       "    .dataframe tbody tr th {\n",
       "        vertical-align: top;\n",
       "    }\n",
       "\n",
       "    .dataframe thead th {\n",
       "        text-align: right;\n",
       "    }\n",
       "</style>\n",
       "<table border=\"1\" class=\"dataframe\">\n",
       "  <thead>\n",
       "    <tr style=\"text-align: right;\">\n",
       "      <th></th>\n",
       "      <th>imp</th>\n",
       "    </tr>\n",
       "  </thead>\n",
       "  <tbody>\n",
       "    <tr>\n",
       "      <th>visit_month</th>\n",
       "      <td>0.140133</td>\n",
       "    </tr>\n",
       "    <tr>\n",
       "      <th>UniProt</th>\n",
       "      <td>0.142540</td>\n",
       "    </tr>\n",
       "    <tr>\n",
       "      <th>NPX</th>\n",
       "      <td>0.203149</td>\n",
       "    </tr>\n",
       "    <tr>\n",
       "      <th>upd23b_clinical_state_on_medication</th>\n",
       "      <td>0.514177</td>\n",
       "    </tr>\n",
       "  </tbody>\n",
       "</table>\n",
       "</div>"
      ],
      "text/plain": [
       "                                          imp\n",
       "visit_month                          0.140133\n",
       "UniProt                              0.142540\n",
       "NPX                                  0.203149\n",
       "upd23b_clinical_state_on_medication  0.514177"
      ]
     },
     "execution_count": 218,
     "metadata": {},
     "output_type": "execute_result"
    }
   ],
   "source": [
    "colnames = X.columns.tolist()\n",
    "imp_values = feature_importances\n",
    "df_imp = pd.DataFrame(data=imp_values, \n",
    "                     index = colnames,\n",
    "                     columns =[\"imp\"]).sort_values(by ='imp')\n",
    "df_imp"
   ]
  },
  {
   "cell_type": "code",
   "execution_count": 219,
   "id": "67234607",
   "metadata": {},
   "outputs": [
    {
     "data": {
      "text/plain": [
       "['visit_month', 'UniProt', 'NPX', 'upd23b_clinical_state_on_medication']"
      ]
     },
     "execution_count": 219,
     "metadata": {},
     "output_type": "execute_result"
    }
   ],
   "source": [
    "# 7.11 First five columns with least feature importance are:\n",
    "list(df_imp.index.values[:5])"
   ]
  },
  {
   "cell_type": "markdown",
   "id": "3bc9cb80",
   "metadata": {},
   "source": [
    "##### **Interpretation**\n",
    "\n",
    "Each feature's importance value represents the proportion of the model's prediction error that can be attributed to that feature. A higher importance value suggests that the feature has a stronger impact on the model's predictions. Here's how to interpret the specific feature importances you've provided:\n",
    "\n",
    "visit_month: Importance - 0.140133\n",
    "This feature has an importance value of approximately 0.14. This suggests that it contributes a moderate amount to the model's predictions. It's not the most influential feature, but it still plays a role in making predictions.\n",
    "\n",
    "UniProt: Importance - 0.142540\n",
    "Similarly, this feature has an importance value of approximately 0.14. It also contributes a moderate amount to the model's predictions.\n",
    "\n",
    "NPX: Importance - 0.203149\n",
    "This feature has the highest importance value among the ones you've listed, with approximately 0.20. This indicates that it has a notable impact on the model's predictions.\n",
    "\n",
    "upd23b_clinical_state_on_medication: Importance - 0.514177\n",
    "This feature has the highest importance value of all, with approximately 0.51. This implies that it is the most influential feature in your model's predictions.\n",
    "\n",
    "Overall, the feature importances highlight the relative contributions of each feature in explaining the variations in the target variable. It's important to note that feature importances are specific to the model you're using and the dataset you have. Different models or datasets might yield different importance rankings. If you're looking to simplify your model or make it more interpretable, you might consider focusing on the most important features while possibly removing or de-prioritizing the less important ones.\n",
    "\n",
    "\n",
    "\n",
    "\n",
    "\n"
   ]
  },
  {
   "cell_type": "markdown",
   "id": "e02c521e",
   "metadata": {},
   "source": [
    "_The End_"
   ]
  }
 ],
 "metadata": {
  "kernelspec": {
   "display_name": "Python 3 (ipykernel)",
   "language": "python",
   "name": "python3"
  },
  "language_info": {
   "codemirror_mode": {
    "name": "ipython",
    "version": 3
   },
   "file_extension": ".py",
   "mimetype": "text/x-python",
   "name": "python",
   "nbconvert_exporter": "python",
   "pygments_lexer": "ipython3",
   "version": "3.9.16"
  }
 },
 "nbformat": 4,
 "nbformat_minor": 5
}
